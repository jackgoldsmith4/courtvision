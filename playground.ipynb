{
 "cells": [
  {
   "cell_type": "code",
   "execution_count": 1,
   "id": "3760d17f-54f5-424e-8fd6-20c6be65b028",
   "metadata": {},
   "outputs": [],
   "source": [
    "import pandas as pd"
   ]
  },
  {
   "cell_type": "code",
   "execution_count": 2,
   "id": "df916bd7-e81d-4616-b29a-83f2a7d6b9e5",
   "metadata": {},
   "outputs": [],
   "source": [
    "predictions_df = pd.read_csv('predictions.csv')"
   ]
  },
  {
   "cell_type": "code",
   "execution_count": 3,
   "id": "9e5ba032-9115-4b15-81d7-255b92d10648",
   "metadata": {},
   "outputs": [
    {
     "data": {
      "text/html": [
       "<div>\n",
       "<style scoped>\n",
       "    .dataframe tbody tr th:only-of-type {\n",
       "        vertical-align: middle;\n",
       "    }\n",
       "\n",
       "    .dataframe tbody tr th {\n",
       "        vertical-align: top;\n",
       "    }\n",
       "\n",
       "    .dataframe thead th {\n",
       "        text-align: right;\n",
       "    }\n",
       "</style>\n",
       "<table border=\"1\" class=\"dataframe\">\n",
       "  <thead>\n",
       "    <tr style=\"text-align: right;\">\n",
       "      <th></th>\n",
       "      <th>box_score_str</th>\n",
       "      <th>recap_headline</th>\n",
       "      <th>predicted_name</th>\n",
       "      <th>predicted_name_anonymous</th>\n",
       "      <th>actual_names</th>\n",
       "    </tr>\n",
       "  </thead>\n",
       "  <tbody>\n",
       "    <tr>\n",
       "      <th>0</th>\n",
       "      <td>2013-12-22 Minnesota Timberwolves @ Los Angele...</td>\n",
       "      <td>Clippers overcome Kevin Love's 45 points to be...</td>\n",
       "      <td>kevin love</td>\n",
       "      <td>kevin love</td>\n",
       "      <td>['kevin love']</td>\n",
       "    </tr>\n",
       "    <tr>\n",
       "      <th>1</th>\n",
       "      <td>2022-10-24 Brooklyn Nets @ Memphis Grizzliespl...</td>\n",
       "      <td>Bane and Morant score 38 each as Grizzlies bea...</td>\n",
       "      <td>desmond bane</td>\n",
       "      <td>desmond bane</td>\n",
       "      <td>['desmond bane', 'ja morant']</td>\n",
       "    </tr>\n",
       "    <tr>\n",
       "      <th>2</th>\n",
       "      <td>2022-10-29 Memphis Grizzlies @ Utah Jazzplayer...</td>\n",
       "      <td>Jazz edge short-handed Grizzlies 124-123</td>\n",
       "      <td>desmond bane</td>\n",
       "      <td>desmond bane</td>\n",
       "      <td>['none']</td>\n",
       "    </tr>\n",
       "    <tr>\n",
       "      <th>3</th>\n",
       "      <td>2022-11-04 Charlotte Hornets @ Memphis Grizzli...</td>\n",
       "      <td>Brooks scores 23 as Grizzlies rout Hornets 130-99</td>\n",
       "      <td>ja morant</td>\n",
       "      <td>dillon brooks</td>\n",
       "      <td>['dillon brooks']</td>\n",
       "    </tr>\n",
       "    <tr>\n",
       "      <th>4</th>\n",
       "      <td>2022-11-07 Boston Celtics @ Memphis Grizzliesp...</td>\n",
       "      <td>Tatum's 39 points help Celtics hold on to beat...</td>\n",
       "      <td>jayson tatum</td>\n",
       "      <td>jayson tatum</td>\n",
       "      <td>['jayson tatum']</td>\n",
       "    </tr>\n",
       "  </tbody>\n",
       "</table>\n",
       "</div>"
      ],
      "text/plain": [
       "                                       box_score_str  \\\n",
       "0  2013-12-22 Minnesota Timberwolves @ Los Angele...   \n",
       "1  2022-10-24 Brooklyn Nets @ Memphis Grizzliespl...   \n",
       "2  2022-10-29 Memphis Grizzlies @ Utah Jazzplayer...   \n",
       "3  2022-11-04 Charlotte Hornets @ Memphis Grizzli...   \n",
       "4  2022-11-07 Boston Celtics @ Memphis Grizzliesp...   \n",
       "\n",
       "                                      recap_headline predicted_name  \\\n",
       "0  Clippers overcome Kevin Love's 45 points to be...     kevin love   \n",
       "1  Bane and Morant score 38 each as Grizzlies bea...   desmond bane   \n",
       "2           Jazz edge short-handed Grizzlies 124-123   desmond bane   \n",
       "3  Brooks scores 23 as Grizzlies rout Hornets 130-99      ja morant   \n",
       "4  Tatum's 39 points help Celtics hold on to beat...   jayson tatum   \n",
       "\n",
       "  predicted_name_anonymous                   actual_names  \n",
       "0               kevin love                 ['kevin love']  \n",
       "1             desmond bane  ['desmond bane', 'ja morant']  \n",
       "2             desmond bane                       ['none']  \n",
       "3            dillon brooks              ['dillon brooks']  \n",
       "4             jayson tatum               ['jayson tatum']  "
      ]
     },
     "execution_count": 3,
     "metadata": {},
     "output_type": "execute_result"
    }
   ],
   "source": [
    "predictions_df.head()"
   ]
  },
  {
   "cell_type": "code",
   "execution_count": null,
   "id": "cd79c807-75f3-4007-a542-1dd8704b6899",
   "metadata": {},
   "outputs": [],
   "source": []
  }
 ],
 "metadata": {
  "kernelspec": {
   "display_name": "Python 3 (ipykernel)",
   "language": "python",
   "name": "python3"
  },
  "language_info": {
   "codemirror_mode": {
    "name": "ipython",
    "version": 3
   },
   "file_extension": ".py",
   "mimetype": "text/x-python",
   "name": "python",
   "nbconvert_exporter": "python",
   "pygments_lexer": "ipython3",
   "version": "3.10.9"
  }
 },
 "nbformat": 4,
 "nbformat_minor": 5
}
