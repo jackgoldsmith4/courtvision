{
 "cells": [
  {
   "cell_type": "code",
   "execution_count": null,
   "id": "f5fd58b4-cd11-4c65-b8fe-40d96f6818c1",
   "metadata": {},
   "outputs": [],
   "source": [
    "import pandas as pd\n",
    "import os"
   ]
  },
  {
   "cell_type": "code",
   "execution_count": null,
   "id": "113d619c-c560-4f67-9a48-fb3cb43e5d2e",
   "metadata": {},
   "outputs": [],
   "source": [
    "def is_bad_linreg(bias, r2_test):\n",
    "    if abs(bias) > 100:\n",
    "        return True\n",
    "    elif r2_test < 0:\n",
    "        return True\n",
    "\n",
    "    return False"
   ]
  },
  {
   "cell_type": "code",
   "execution_count": null,
   "id": "8c969664-b36b-4460-913b-650b628dce84",
   "metadata": {},
   "outputs": [],
   "source": [
    "bad_linregs = []\n",
    "other_linregs = []\n",
    "all_linregs = []\n",
    "for name in os.listdir('./player_game_logs'):\n",
    "    player_summary = pd.read_csv(f\"./player_game_logs/{name}/{name}_SUMMARY.csv\")\n",
    "    player_summary = player_summary[player_summary['model_type'] == 'LinReg']\n",
    "    bias = player_summary.loc[player_summary.index[0], 'bias']\n",
    "    r2_test = player_summary.loc[player_summary.index[0], 'r2_test']\n",
    "\n",
    "    player_summary['player_name'] = name\n",
    "    all_linregs.append(player_summary)\n",
    "    if is_bad_linreg(bias, r2_test):\n",
    "        bad_linregs.append(player_summary)\n",
    "    else:\n",
    "        other_linregs.append(player_summary)\n",
    "        \n",
    "combined_bad_linregs = pd.concat(bad_linregs, ignore_index=True).set_index('model_type')\n",
    "combined_other_linregs = pd.concat(other_linregs, ignore_index=True).set_index('model_type')\n",
    "combined_all_linregs = pd.concat(all_linregs, ignore_index=True).set_index('model_type')"
   ]
  },
  {
   "cell_type": "code",
   "execution_count": null,
   "id": "435ffa90-d10c-45cc-967f-2396f71e8912",
   "metadata": {},
   "outputs": [],
   "source": [
    "# bring name col to front\n",
    "columns = list(combined_bad_linregs.columns)\n",
    "last_column = columns.pop()  # Remove the last column and store it\n",
    "columns.insert(0, last_column)  # Insert the last column at the beginning\n",
    "combined_bad_linregs = combined_bad_linregs[columns]\n",
    "\n",
    "columns = list(combined_other_linregs.columns)\n",
    "last_column = columns.pop()  # Remove the last column and store it\n",
    "columns.insert(0, last_column)  # Insert the last column at the beginning\n",
    "combined_other_linregs = combined_other_linregs[columns]"
   ]
  },
  {
   "cell_type": "code",
   "execution_count": null,
   "id": "b80033b2-a33c-4b92-9c3d-ed039328b186",
   "metadata": {},
   "outputs": [],
   "source": [
    "pd.options.display.float_format = '{:,.4f}'.format\n",
    "pd.set_option('display.max_columns', None)\n",
    "combined_bad_linregs.sort_values('bias')\n",
    "#combined_bad_linregs.groupby(combined_bad_linregs.index).mean()"
   ]
  },
  {
   "cell_type": "code",
   "execution_count": null,
   "id": "cfffb9eb-e047-4ee2-a2e8-d53a3651a332",
   "metadata": {},
   "outputs": [],
   "source": [
    "combined_other_linregs.sort_values('r2_test', ascending=False)\n",
    "#combined_other_linregs.groupby(combined_other_linregs.index).mean()"
   ]
  },
  {
   "cell_type": "code",
   "execution_count": null,
   "id": "1b757dd9-e24b-4a38-8fad-21fe0686b456",
   "metadata": {},
   "outputs": [],
   "source": [
    "combined_other_linregs.sort_values('bias')"
   ]
  },
  {
   "cell_type": "code",
   "execution_count": null,
   "id": "cf58e64a-7b47-4906-95e9-2e3a44456124",
   "metadata": {},
   "outputs": [],
   "source": [
    "combined_bad_linregs.sort_values('r2_test')"
   ]
  },
  {
   "cell_type": "code",
   "execution_count": null,
   "id": "22110cf6-fb1d-4a33-841a-0dc262020f04",
   "metadata": {},
   "outputs": [],
   "source": [
    "combined_bad_linregs[combined_bad_linregs['player_name'] == 'nikola_jokić']"
   ]
  },
  {
   "cell_type": "code",
   "execution_count": null,
   "id": "ab8e62c2-978c-4c26-bef1-993e838290c6",
   "metadata": {},
   "outputs": [],
   "source": [
    "combined_other_linregs.drop(columns=['player_name']).groupby(combined_other_linregs.index).mean()"
   ]
  },
  {
   "cell_type": "code",
   "execution_count": null,
   "id": "b302e43e-8d44-406a-92a6-d27b8cf0e41f",
   "metadata": {},
   "outputs": [],
   "source": [
    "combined_bad_linregs.drop(columns=['player_name']).groupby(combined_bad_linregs.index).mean()"
   ]
  },
  {
   "cell_type": "code",
   "execution_count": null,
   "id": "cefb8b39-fb57-483c-a40f-751ae1b971e7",
   "metadata": {},
   "outputs": [],
   "source": [
    "combined_other_linregs.sort_values('Game of season_weight').tail(3)[['player_name', 'n_train', 'n_test', 'r2_train', 'r2_test', 'bias', 'Game of season_weight', 'Game for player_weight']]"
   ]
  },
  {
   "cell_type": "code",
   "execution_count": null,
   "id": "06eb81a7-d97d-46cb-9042-8c3d1e94348e",
   "metadata": {},
   "outputs": [],
   "source": [
    "combined_bad_linregs.sort_values('r2_test').head(10)"
   ]
  },
  {
   "cell_type": "code",
   "execution_count": null,
   "id": "aa47be40-fde4-4ed7-9bf0-ff0e6b3a23cf",
   "metadata": {},
   "outputs": [],
   "source": [
    "combined_all_linregs"
   ]
  },
  {
   "cell_type": "code",
   "execution_count": null,
   "id": "4ba69ab2-006a-4ec1-8369-d2e590848ddd",
   "metadata": {},
   "outputs": [],
   "source": [
    "combined_all_linregs.drop(columns=['player_name']).mean()"
   ]
  },
  {
   "cell_type": "code",
   "execution_count": null,
   "id": "1de51440-8713-402f-949f-37f1b155cf74",
   "metadata": {},
   "outputs": [],
   "source": []
  },
  {
   "cell_type": "code",
   "execution_count": null,
   "id": "3f6be49d-f2d2-4d98-983e-8ee322ccaa92",
   "metadata": {},
   "outputs": [],
   "source": [
    "NAME = 'james_michael_mcadoo'\n",
    "ds = pd.read_csv(f\"./player_game_logs/{NAME}/{NAME}_SUMMARY.csv\")\n",
    "ds.sort_values('r2_test', ascending=False)"
   ]
  },
  {
   "cell_type": "code",
   "execution_count": null,
   "id": "7a499edc-37ce-4921-85a1-ea259efc9921",
   "metadata": {},
   "outputs": [],
   "source": []
  }
 ],
 "metadata": {
  "kernelspec": {
   "display_name": "Python 3 (ipykernel)",
   "language": "python",
   "name": "python3"
  },
  "language_info": {
   "codemirror_mode": {
    "name": "ipython",
    "version": 3
   },
   "file_extension": ".py",
   "mimetype": "text/x-python",
   "name": "python",
   "nbconvert_exporter": "python",
   "pygments_lexer": "ipython3",
   "version": "3.10.9"
  }
 },
 "nbformat": 4,
 "nbformat_minor": 5
}
