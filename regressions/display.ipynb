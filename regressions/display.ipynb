{
 "cells": [
  {
   "cell_type": "code",
   "execution_count": null,
   "id": "60a66689",
   "metadata": {},
   "outputs": [],
   "source": [
    "import pandas as pd\n",
    "from sklearn.linear_model import LinearRegression\n",
    "from sklearn.metrics import mean_squared_error, r2_score\n",
    "import os\n",
    "import math\n",
    "import matplotlib.pyplot as plt\n",
    "import numpy as np"
   ]
  },
  {
   "cell_type": "code",
   "execution_count": null,
   "id": "a409c05b",
   "metadata": {},
   "outputs": [],
   "source": [
    "# inputs\n",
    "########\n",
    "MIN_TRAIN_SAMPLES = 300\n",
    "########\n",
    "\n",
    "dfs = []\n",
    "count = 0\n",
    "for name in os.listdir('./player_game_logs'):\n",
    "    df = pd.read_csv(f\"./player_game_logs/{name}/{name}_SUMMARY.csv\")\n",
    "    if df.loc[0]['n_train'] >= MIN_TRAIN_SAMPLES:\n",
    "        count += 1\n",
    "        dfs.append(df)\n",
    "combined_df = pd.concat(dfs, ignore_index=True).set_index('model_type')\n",
    "print(count)"
   ]
  },
  {
   "cell_type": "code",
   "execution_count": null,
   "id": "68159462",
   "metadata": {
    "scrolled": true
   },
   "outputs": [],
   "source": [
    "summary_df = combined_df.groupby(combined_df.index).mean()\n",
    "pd.options.display.float_format = '{:,.4f}'.format\n",
    "pd.set_option('display.max_columns', None)\n",
    "pd.set_option('display.max_rows', None)"
   ]
  },
  {
   "cell_type": "code",
   "execution_count": null,
   "id": "6698af3e-548d-4769-b02a-4243316c089d",
   "metadata": {},
   "outputs": [],
   "source": [
    "summary_df.sort_values('r2_test', ascending=False)"
   ]
  },
  {
   "cell_type": "code",
   "execution_count": null,
   "id": "99da91c6-32b0-464c-b765-0c4ee6692d9c",
   "metadata": {},
   "outputs": [],
   "source": [
    "## Model performance - ablated Team and Opponent features"
   ]
  },
  {
   "cell_type": "code",
   "execution_count": null,
   "id": "4ba9c688-5766-4e8b-a4ff-8cd9bb7a8d7f",
   "metadata": {},
   "outputs": [],
   "source": [
    "dfs = []\n",
    "count = 0\n",
    "for name in os.listdir('./player_game_logs'):\n",
    "    df = pd.read_csv(f\"./player_game_logs/{name}/{name}_SUMMARY_ABLATED.csv\")\n",
    "    if df.loc[0]['n_train'] >= MIN_TRAIN_SAMPLES:\n",
    "        count += 1\n",
    "        dfs.append(df)\n",
    "combined_df = pd.concat(dfs, ignore_index=True).set_index('model_type')\n",
    "print(count)"
   ]
  },
  {
   "cell_type": "code",
   "execution_count": null,
   "id": "970254df-afe2-4c2c-ad2f-dadf078342f5",
   "metadata": {},
   "outputs": [],
   "source": [
    "summary_df = combined_df.groupby(combined_df.index).mean()\n",
    "summary_df.sort_values('r2_test', ascending=False)"
   ]
  },
  {
   "cell_type": "code",
   "execution_count": null,
   "id": "fc6ad211-4389-4b78-acb0-3686bca03d58",
   "metadata": {},
   "outputs": [],
   "source": []
  },
  {
   "cell_type": "code",
   "execution_count": null,
   "id": "4bfcbeaf",
   "metadata": {},
   "outputs": [],
   "source": [
    "##### r2_test vs. n_train analysis"
   ]
  },
  {
   "cell_type": "code",
   "execution_count": null,
   "id": "d1f0e02e-75c4-4162-bbe4-4665f51eee67",
   "metadata": {},
   "outputs": [],
   "source": [
    "dfs = {}\n",
    "for name in os.listdir('./player_game_logs'):\n",
    "    df = pd.read_csv(f\"./player_game_logs/{name}/{name}_SUMMARY.csv\")\n",
    "    if df.loc[0]['n_train'] >= MIN_TRAIN_SAMPLES:\n",
    "        dfs[name] = df.set_index('model_type')\n",
    "\n",
    "data = []\n",
    "for player, df in dfs.items():\n",
    "    for model in df.index:\n",
    "        n_train = df.loc[model, 'n_train']\n",
    "        r2_test = df.loc[model, 'r2_test']\n",
    "        data.append({'Player': player, 'Model': model, 'n_train': n_train, 'r2_test': r2_test})\n",
    "combined_df = pd.DataFrame(data)"
   ]
  },
  {
   "cell_type": "code",
   "execution_count": null,
   "id": "08dcd3be-ff23-4811-acab-7fef8d204739",
   "metadata": {},
   "outputs": [],
   "source": [
    "combined_df"
   ]
  },
  {
   "cell_type": "code",
   "execution_count": null,
   "id": "c89be59f",
   "metadata": {},
   "outputs": [],
   "source": [
    "# Determine layout\n",
    "models = sorted(combined_df['Model'].unique())\n",
    "fig, axs = plt.subplots(4, 5, figsize=(20, 16))  # Adjust the figsize as needed\n",
    "axs = axs.flatten()  # Flatten the axis array\n",
    "\n",
    "# Predefined axes limits\n",
    "x_limits = (0, 1500)\n",
    "y_limits = (-1.0, 0.75)\n",
    "\n",
    "# Plotting with modifications\n",
    "for i, model in enumerate(models):\n",
    "    model_df = combined_df[combined_df['Model'] == model]\n",
    "    # Plot points\n",
    "    axs[i].scatter(model_df['n_train'], model_df['r2_test'], color='blue')\n",
    "    axs[i].set_xlim(x_limits)\n",
    "    axs[i].set_ylim(y_limits)\n",
    "    \n",
    "    # Best-fit line and equation\n",
    "    if not model_df.empty:\n",
    "        x = model_df['n_train']\n",
    "        y = model_df['r2_test']\n",
    "        m, b = np.polyfit(x, y, 1)  # Linear fit\n",
    "        axs[i].plot(x, m*x + b, color='red')  # Add the best-fit line\n",
    "        equation_text = f'y = {m:.4f}x + {b:.4f}'\n",
    "    else:\n",
    "        equation_text = 'No data'\n",
    "\n",
    "    # Set title with model and below add equation text\n",
    "    axs[i].set_title(f'{model}')\n",
    "    axs[i].set_xlabel('n_train')\n",
    "    axs[i].set_ylabel('r2_test')\n",
    "    axs[i].text(0.5, -0.2, equation_text, transform=axs[i].transAxes, ha=\"center\", va=\"top\", fontsize=9, color=\"green\")\n",
    "\n",
    "# Hide unused subplots\n",
    "for ax in axs[len(models):]:\n",
    "    ax.set_visible(False)\n",
    "\n",
    "plt.tight_layout()\n",
    "plt.show()"
   ]
  },
  {
   "cell_type": "code",
   "execution_count": null,
   "id": "30e9ee44",
   "metadata": {},
   "outputs": [],
   "source": []
  },
  {
   "cell_type": "code",
   "execution_count": null,
   "id": "b575bf97-6746-425a-85a8-3ab6ed5123d7",
   "metadata": {},
   "outputs": [],
   "source": [
    "### TOP MODELS Analysis"
   ]
  },
  {
   "cell_type": "code",
   "execution_count": null,
   "id": "baefb532-a607-4479-8f61-d72c4eab6503",
   "metadata": {},
   "outputs": [],
   "source": [
    "dfs = {}\n",
    "for name in os.listdir('./player_game_logs'):\n",
    "    dfs[name] = pd.read_csv(f\"./player_game_logs/{name}/{name}_SUMMARY.csv\")\n",
    "\n",
    "# Step 1: Combine the DataFrames\n",
    "data = []\n",
    "for player, df in dfs.items():\n",
    "    df_copy = df.copy()\n",
    "    df_copy.insert(0, 'player_name', player)\n",
    "    data.append(df_copy)\n",
    "combined_df = pd.concat(data)\n",
    "\n",
    "# Step 2 and 3: Group by ModelType, sort by r2_test, and get top 10 for each group\n",
    "top_models_per_type = combined_df.groupby('model_type').apply(lambda x: x.sort_values('r2_test', ascending=False).head(50))\n",
    "\n",
    "# Reset index if you want a cleaner DataFrame\n",
    "top_models_per_type = top_models_per_type.reset_index(drop=True)"
   ]
  },
  {
   "cell_type": "code",
   "execution_count": null,
   "id": "866a2463-4ffe-42f9-b83a-ae82f4f20486",
   "metadata": {},
   "outputs": [],
   "source": [
    "top_models_per_type['model_type'].unique()"
   ]
  },
  {
   "cell_type": "code",
   "execution_count": null,
   "id": "639da9ea-1507-478f-887b-df4e824b0c22",
   "metadata": {},
   "outputs": [],
   "source": [
    "model = 'Random Forest (500 estimators, 5 depth)'\n",
    "linear_models_no_linreg = [\n",
    "    'Lasso (lambda=0.01)', 'Lasso (lambda=0.05)', \n",
    "    'Lasso (lambda=0.1)',\n",
    "    'Lasso (lambda=1.0)', 'Ridge (lambda=0.1)',\n",
    "    'Ridge (lambda=1.0)', 'Ridge (lambda=2.0)'\n",
    "]\n",
    "top_linear_models = top_models_per_type[top_models_per_type['model_type'].isin(linear_models_no_linreg)]"
   ]
  },
  {
   "cell_type": "code",
   "execution_count": null,
   "id": "364b6b48-2a9a-47d1-b247-3253c4005c50",
   "metadata": {},
   "outputs": [],
   "source": [
    "top_linear_models"
   ]
  },
  {
   "cell_type": "code",
   "execution_count": null,
   "id": "3e4bbc6c",
   "metadata": {
    "scrolled": true
   },
   "outputs": [],
   "source": [
    "means = top_linear_models.drop(columns=['player_name', 'model_type', 'n_train', 'n_test', 'mse_train', 'rmse_train', 'r2_train', 'mse_test', 'rmse_test', 'r2_test', 'y_test_mean', 'bias']).mean()\n",
    "avg_weights = pd.DataFrame(means).reset_index()\n",
    "avg_weights.columns = ['weight_name', 'weight_avg']\n",
    "avg_weights.sort_values('weight_avg', ascending=False).head(10)"
   ]
  },
  {
   "cell_type": "code",
   "execution_count": null,
   "id": "ffbac4fe-bdcd-44ec-81ad-28732f5ff67d",
   "metadata": {},
   "outputs": [],
   "source": [
    "avg_weights.sort_values('weight_avg', ascending=False).tail(10) ablation"
   ]
  },
  {
   "cell_type": "code",
   "execution_count": null,
   "id": "8a5bd96c",
   "metadata": {
    "scrolled": true
   },
   "outputs": [],
   "source": [
    "ds = pd.read_csv('./player_game_logs/derek_strong/derek_strong_SUMMARY.csv')\n",
    "ds.sort_values('r2_test', ascending=False)"
   ]
  },
  {
   "cell_type": "code",
   "execution_count": null,
   "id": "f5080ec5-5e17-4a2c-8413-3f396202ea1b",
   "metadata": {},
   "outputs": [],
   "source": []
  }
 ],
 "metadata": {
  "kernelspec": {
   "display_name": "Python 3 (ipykernel)",
   "language": "python",
   "name": "python3"
  },
  "language_info": {
   "codemirror_mode": {
    "name": "ipython",
    "version": 3
   },
   "file_extension": ".py",
   "mimetype": "text/x-python",
   "name": "python",
   "nbconvert_exporter": "python",
   "pygments_lexer": "ipython3",
   "version": "3.10.9"
  }
 },
 "nbformat": 4,
 "nbformat_minor": 5
}
